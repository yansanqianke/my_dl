{
 "cells": [
  {
   "cell_type": "code",
   "id": "initial_id",
   "metadata": {
    "collapsed": true,
    "ExecuteTime": {
     "end_time": "2025-02-17T01:25:40.152475Z",
     "start_time": "2025-02-17T01:25:30.376423Z"
    }
   },
   "source": [
    "from torchvision import transforms\n",
    "from torch.utils.tensorboard import SummaryWriter\n",
    "from PIL import Image"
   ],
   "outputs": [],
   "execution_count": 1
  },
  {
   "metadata": {
    "ExecuteTime": {
     "end_time": "2025-02-17T01:25:41.609238Z",
     "start_time": "2025-02-17T01:25:41.566757Z"
    }
   },
   "cell_type": "code",
   "source": [
    "writer = SummaryWriter('logs')\n",
    "img_path='data/hymenoptera_data/train/ants/0013035.jpg'\n",
    "img=Image.open(img_path)"
   ],
   "id": "d24ca1302b3f2282",
   "outputs": [],
   "execution_count": 2
  },
  {
   "metadata": {
    "ExecuteTime": {
     "end_time": "2025-02-17T01:25:44.205704Z",
     "start_time": "2025-02-17T01:25:44.182539Z"
    }
   },
   "cell_type": "code",
   "source": [
    "img_tensor=transforms.ToTensor()(img)\n",
    "print(img_tensor)"
   ],
   "id": "590a06078ef4a9bd",
   "outputs": [
    {
     "name": "stdout",
     "output_type": "stream",
     "text": [
      "tensor([[[0.3137, 0.3137, 0.3137,  ..., 0.3176, 0.3098, 0.2980],\n",
      "         [0.3176, 0.3176, 0.3176,  ..., 0.3176, 0.3098, 0.2980],\n",
      "         [0.3216, 0.3216, 0.3216,  ..., 0.3137, 0.3098, 0.3020],\n",
      "         ...,\n",
      "         [0.3412, 0.3412, 0.3373,  ..., 0.1725, 0.3725, 0.3529],\n",
      "         [0.3412, 0.3412, 0.3373,  ..., 0.3294, 0.3529, 0.3294],\n",
      "         [0.3412, 0.3412, 0.3373,  ..., 0.3098, 0.3059, 0.3294]],\n",
      "\n",
      "        [[0.5922, 0.5922, 0.5922,  ..., 0.5961, 0.5882, 0.5765],\n",
      "         [0.5961, 0.5961, 0.5961,  ..., 0.5961, 0.5882, 0.5765],\n",
      "         [0.6000, 0.6000, 0.6000,  ..., 0.5922, 0.5882, 0.5804],\n",
      "         ...,\n",
      "         [0.6275, 0.6275, 0.6235,  ..., 0.3608, 0.6196, 0.6157],\n",
      "         [0.6275, 0.6275, 0.6235,  ..., 0.5765, 0.6275, 0.5961],\n",
      "         [0.6275, 0.6275, 0.6235,  ..., 0.6275, 0.6235, 0.6314]],\n",
      "\n",
      "        [[0.9137, 0.9137, 0.9137,  ..., 0.9176, 0.9098, 0.8980],\n",
      "         [0.9176, 0.9176, 0.9176,  ..., 0.9176, 0.9098, 0.8980],\n",
      "         [0.9216, 0.9216, 0.9216,  ..., 0.9137, 0.9098, 0.9020],\n",
      "         ...,\n",
      "         [0.9294, 0.9294, 0.9255,  ..., 0.5529, 0.9216, 0.8941],\n",
      "         [0.9294, 0.9294, 0.9255,  ..., 0.8863, 1.0000, 0.9137],\n",
      "         [0.9294, 0.9294, 0.9255,  ..., 0.9490, 0.9804, 0.9137]]])\n"
     ]
    }
   ],
   "execution_count": 3
  },
  {
   "metadata": {
    "ExecuteTime": {
     "end_time": "2025-02-17T01:26:38.891856Z",
     "start_time": "2025-02-17T01:26:38.788119Z"
    }
   },
   "cell_type": "code",
   "source": [
    "writer.add_image(\"Temsor_img\",img_tensor)\n",
    "writer.close()"
   ],
   "id": "3ab134f56be83e09",
   "outputs": [],
   "execution_count": 4
  },
  {
   "metadata": {
    "ExecuteTime": {
     "end_time": "2025-02-17T01:28:06.287076Z",
     "start_time": "2025-02-17T01:28:06.284049Z"
    }
   },
   "cell_type": "code",
   "source": "print(img_tensor.shape)",
   "id": "a2c64fd830111c63",
   "outputs": [
    {
     "name": "stdout",
     "output_type": "stream",
     "text": [
      "torch.Size([3, 512, 768])\n"
     ]
    }
   ],
   "execution_count": 5
  },
  {
   "metadata": {
    "ExecuteTime": {
     "end_time": "2025-02-17T01:32:10.803290Z",
     "start_time": "2025-02-17T01:32:10.792936Z"
    }
   },
   "cell_type": "code",
   "source": [
    "mean=[0.485, 0.456, 0.406]\n",
    "std=[0.229, 0.224, 0.225]\n",
    "img_norm=transforms.Normalize(mean=mean, std=std)(img_tensor)\n",
    "print(img_norm)\n"
   ],
   "id": "fa770eafae337102",
   "outputs": [
    {
     "name": "stdout",
     "output_type": "stream",
     "text": [
      "tensor([[[-0.7479, -0.7479, -0.7479,  ..., -0.7308, -0.7650, -0.8164],\n",
      "         [-0.7308, -0.7308, -0.7308,  ..., -0.7308, -0.7650, -0.8164],\n",
      "         [-0.7137, -0.7137, -0.7137,  ..., -0.7479, -0.7650, -0.7993],\n",
      "         ...,\n",
      "         [-0.6281, -0.6281, -0.6452,  ..., -1.3644, -0.4911, -0.5767],\n",
      "         [-0.6281, -0.6281, -0.6452,  ..., -0.6794, -0.5767, -0.6794],\n",
      "         [-0.6281, -0.6281, -0.6452,  ..., -0.7650, -0.7822, -0.6794]],\n",
      "\n",
      "        [[ 0.6078,  0.6078,  0.6078,  ...,  0.6254,  0.5903,  0.5378],\n",
      "         [ 0.6254,  0.6254,  0.6254,  ...,  0.6254,  0.5903,  0.5378],\n",
      "         [ 0.6429,  0.6429,  0.6429,  ...,  0.6078,  0.5903,  0.5553],\n",
      "         ...,\n",
      "         [ 0.7654,  0.7654,  0.7479,  ..., -0.4251,  0.7304,  0.7129],\n",
      "         [ 0.7654,  0.7654,  0.7479,  ...,  0.5378,  0.7654,  0.6254],\n",
      "         [ 0.7654,  0.7654,  0.7479,  ...,  0.7654,  0.7479,  0.7829]],\n",
      "\n",
      "        [[ 2.2566,  2.2566,  2.2566,  ...,  2.2740,  2.2391,  2.1868],\n",
      "         [ 2.2740,  2.2740,  2.2740,  ...,  2.2740,  2.2391,  2.1868],\n",
      "         [ 2.2914,  2.2914,  2.2914,  ...,  2.2566,  2.2391,  2.2043],\n",
      "         ...,\n",
      "         [ 2.3263,  2.3263,  2.3088,  ...,  0.6531,  2.2914,  2.1694],\n",
      "         [ 2.3263,  2.3263,  2.3088,  ...,  2.1346,  2.6400,  2.2566],\n",
      "         [ 2.3263,  2.3263,  2.3088,  ...,  2.4134,  2.5529,  2.2566]]])\n"
     ]
    }
   ],
   "execution_count": 6
  },
  {
   "metadata": {
    "ExecuteTime": {
     "end_time": "2025-02-17T01:32:44.652236Z",
     "start_time": "2025-02-17T01:32:44.564910Z"
    }
   },
   "cell_type": "code",
   "source": [
    "writer.add_image(\"img_norm\",img_norm)\n",
    "writer.close()"
   ],
   "id": "b187ce85b5993d33",
   "outputs": [],
   "execution_count": 7
  },
  {
   "metadata": {
    "ExecuteTime": {
     "end_time": "2025-02-17T01:42:17.079954Z",
     "start_time": "2025-02-17T01:42:17.076494Z"
    }
   },
   "cell_type": "code",
   "source": [
    "img_resize=transforms.Resize((512,512))(img_norm)\n",
    "print(img_resize.shape)\n",
    "print(img_norm.shape)"
   ],
   "id": "331178e0f1dc0a50",
   "outputs": [
    {
     "name": "stdout",
     "output_type": "stream",
     "text": [
      "torch.Size([3, 512, 512])\n",
      "torch.Size([3, 512, 768])\n"
     ]
    }
   ],
   "execution_count": 18
  },
  {
   "metadata": {
    "ExecuteTime": {
     "end_time": "2025-02-17T01:42:19.062009Z",
     "start_time": "2025-02-17T01:42:18.987790Z"
    }
   },
   "cell_type": "code",
   "source": [
    "writer.add_image(\"img_resize\",img_resize)\n",
    "writer.close()"
   ],
   "id": "f6a7ed61e580b831",
   "outputs": [],
   "execution_count": 19
  },
  {
   "metadata": {
    "ExecuteTime": {
     "end_time": "2025-02-17T01:46:57.248189Z",
     "start_time": "2025-02-17T01:46:57.244158Z"
    }
   },
   "cell_type": "code",
   "source": [
    "img_resize2=transforms.Resize(300)(img_norm)\n",
    "print(img_resize2.shape)\n",
    "print(img_norm.shape)"
   ],
   "id": "ee7e6b56bb71bf78",
   "outputs": [
    {
     "name": "stdout",
     "output_type": "stream",
     "text": [
      "torch.Size([3, 300, 450])\n",
      "torch.Size([3, 512, 768])\n"
     ]
    }
   ],
   "execution_count": 24
  },
  {
   "metadata": {
    "ExecuteTime": {
     "end_time": "2025-02-17T01:49:01.396283Z",
     "start_time": "2025-02-17T01:49:01.388958Z"
    }
   },
   "cell_type": "code",
   "source": [
    "img_random=transforms.RandomResizedCrop((300,300))(img_resize)\n",
    "print(img_random.shape)"
   ],
   "id": "6a55c6820efc6037",
   "outputs": [
    {
     "name": "stdout",
     "output_type": "stream",
     "text": [
      "torch.Size([3, 300, 300])\n"
     ]
    }
   ],
   "execution_count": 26
  },
  {
   "metadata": {
    "ExecuteTime": {
     "end_time": "2025-02-17T01:49:21.696557Z",
     "start_time": "2025-02-17T01:49:21.666348Z"
    }
   },
   "cell_type": "code",
   "source": [
    "writer.add_image(\"img_random\",img_random)\n",
    "writer.close()"
   ],
   "id": "d6e8f02815b2f540",
   "outputs": [],
   "execution_count": 27
  },
  {
   "metadata": {
    "ExecuteTime": {
     "end_time": "2025-02-17T01:57:04.006388Z",
     "start_time": "2025-02-17T01:57:03.960960Z"
    }
   },
   "cell_type": "code",
   "source": [
    "for i in range(5):\n",
    "    img_random=transforms.RandomResizedCrop((150,150))(img_norm)\n",
    "    writer.add_image(\"img_random_resized\",img_random,i)\n",
    "    writer.close()\n",
    "\n"
   ],
   "id": "f536733ec5743fd0",
   "outputs": [],
   "execution_count": 30
  }
 ],
 "metadata": {
  "kernelspec": {
   "display_name": "Python 3",
   "language": "python",
   "name": "python3"
  },
  "language_info": {
   "codemirror_mode": {
    "name": "ipython",
    "version": 2
   },
   "file_extension": ".py",
   "mimetype": "text/x-python",
   "name": "python",
   "nbconvert_exporter": "python",
   "pygments_lexer": "ipython2",
   "version": "2.7.6"
  }
 },
 "nbformat": 4,
 "nbformat_minor": 5
}
