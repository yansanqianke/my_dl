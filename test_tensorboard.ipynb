{
 "cells": [
  {
   "cell_type": "code",
   "id": "initial_id",
   "metadata": {
    "collapsed": true,
    "ExecuteTime": {
     "end_time": "2025-02-16T09:48:17.106475Z",
     "start_time": "2025-02-16T09:48:15.792227Z"
    }
   },
   "source": "from torch.utils.tensorboard import SummaryWriter\n",
   "outputs": [],
   "execution_count": 1
  },
  {
   "metadata": {
    "ExecuteTime": {
     "end_time": "2025-02-16T09:52:39.061936Z",
     "start_time": "2025-02-16T09:52:39.058560Z"
    }
   },
   "cell_type": "code",
   "source": "writer = SummaryWriter('logs')",
   "id": "ee135cb7d8001479",
   "outputs": [],
   "execution_count": 2
  },
  {
   "metadata": {},
   "cell_type": "code",
   "outputs": [],
   "execution_count": null,
   "source": "# writer.add_image()",
   "id": "8540e2b118783a4"
  },
  {
   "metadata": {
    "ExecuteTime": {
     "end_time": "2025-02-16T09:52:40.390433Z",
     "start_time": "2025-02-16T09:52:40.387555Z"
    }
   },
   "cell_type": "code",
   "source": [
    "for i in range(10):\n",
    "    writer.add_scalar('scalar', i, i)"
   ],
   "id": "a917605e9cb406ff",
   "outputs": [],
   "execution_count": 3
  },
  {
   "metadata": {
    "ExecuteTime": {
     "end_time": "2025-02-16T09:53:45.273622Z",
     "start_time": "2025-02-16T09:53:45.270573Z"
    }
   },
   "cell_type": "code",
   "source": "writer.close()",
   "id": "34a29d0c16aff738",
   "outputs": [],
   "execution_count": 4
  },
  {
   "metadata": {
    "ExecuteTime": {
     "end_time": "2025-02-16T10:02:08.063932Z",
     "start_time": "2025-02-16T10:02:08.052352Z"
    }
   },
   "cell_type": "code",
   "source": [
    "for i in range(100):\n",
    "    writer.add_scalar('y=x', i, i)"
   ],
   "id": "5da9e6d5a613efa2",
   "outputs": [],
   "execution_count": 7
  },
  {
   "metadata": {
    "ExecuteTime": {
     "end_time": "2025-02-16T10:02:09.430342Z",
     "start_time": "2025-02-16T10:02:09.427186Z"
    }
   },
   "cell_type": "code",
   "source": "writer.close()",
   "id": "f8a0de5264ff74a4",
   "outputs": [],
   "execution_count": 8
  },
  {
   "metadata": {
    "ExecuteTime": {
     "end_time": "2025-02-16T10:05:45.156538Z",
     "start_time": "2025-02-16T10:05:45.143002Z"
    }
   },
   "cell_type": "code",
   "source": [
    "for i in range(100):\n",
    "    writer.add_scalar('y=x^2', i**2, i)"
   ],
   "id": "271487ed3388c7f5",
   "outputs": [],
   "execution_count": 9
  },
  {
   "metadata": {
    "ExecuteTime": {
     "end_time": "2025-02-16T10:05:46.077180Z",
     "start_time": "2025-02-16T10:05:46.074943Z"
    }
   },
   "cell_type": "code",
   "source": "writer.close()",
   "id": "a564e384e16226f4",
   "outputs": [],
   "execution_count": 10
  }
 ],
 "metadata": {
  "kernelspec": {
   "display_name": "Python 3",
   "language": "python",
   "name": "python3"
  },
  "language_info": {
   "codemirror_mode": {
    "name": "ipython",
    "version": 2
   },
   "file_extension": ".py",
   "mimetype": "text/x-python",
   "name": "python",
   "nbconvert_exporter": "python",
   "pygments_lexer": "ipython2",
   "version": "2.7.6"
  }
 },
 "nbformat": 4,
 "nbformat_minor": 5
}
