{
 "cells": [
  {
   "cell_type": "code",
   "execution_count": null,
   "id": "initial_id",
   "metadata": {
    "collapsed": true
   },
   "outputs": [],
   "source": [
    "from torch.utils.data import Dataset\n",
    "from PIL import Image\n",
    "import os"
   ]
  },
  {
   "metadata": {},
   "cell_type": "code",
   "outputs": [],
   "execution_count": null,
   "source": [
    "class MyData(Dataset):\n",
    "\n",
    "    def __init__(self, root_dir,label_dir):\n",
    "        self.root_dir = root_dir\n",
    "        self.label_dir = label_dir\n",
    "        self.path=os.path.join(self.root_dir,self.label_dir)\n",
    "        self.image_path=os.listdir(self.path)\n",
    "\n",
    "    def __getitem__(self, idx):\n",
    "        image_name=self.image_path[idx]\n",
    "        image=Image.open(os.path.join(self.path,image_name))\n",
    "        label=self.label_dir\n",
    "        return image, label\n",
    "\n",
    "    def __len__(self):\n",
    "        return len(self.image_path)"
   ],
   "id": "502f01a9e9f7440d"
  },
  {
   "metadata": {},
   "cell_type": "code",
   "outputs": [],
   "execution_count": null,
   "source": [
    "root_dir='data/hymenoptera_data/train'\n",
    "ants_label_dir='ants'\n",
    "bees_label_dir='bees'\n",
    "ants_dataset=MyData(root_dir,ants_label_dir)\n",
    "bees_dataset=MyData(root_dir,bees_label_dir)\n",
    "all_dataset=ants_dataset + bees_dataset"
   ],
   "id": "cce3c0a810fedd57"
  },
  {
   "metadata": {},
   "cell_type": "code",
   "outputs": [],
   "execution_count": null,
   "source": "",
   "id": "b0ace332e67ef9b0"
  }
 ],
 "metadata": {
  "kernelspec": {
   "display_name": "Python 3",
   "language": "python",
   "name": "python3"
  },
  "language_info": {
   "codemirror_mode": {
    "name": "ipython",
    "version": 2
   },
   "file_extension": ".py",
   "mimetype": "text/x-python",
   "name": "python",
   "nbconvert_exporter": "python",
   "pygments_lexer": "ipython2",
   "version": "2.7.6"
  }
 },
 "nbformat": 4,
 "nbformat_minor": 5
}
