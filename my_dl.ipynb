{
 "cells": [
  {
   "cell_type": "code",
   "id": "initial_id",
   "metadata": {
    "collapsed": true,
    "jupyter": {
     "outputs_hidden": true
    },
    "ExecuteTime": {
     "end_time": "2025-02-18T06:21:06.935277Z",
     "start_time": "2025-02-18T06:21:04.896765Z"
    }
   },
   "source": [
    "import torch\n",
    "from torch.utils.data import Dataset, DataLoader\n",
    "from PIL import Image\n",
    "import os\n",
    "import torch.nn as nn\n",
    "from torchvision import transforms"
   ],
   "outputs": [],
   "execution_count": 1
  },
  {
   "cell_type": "code",
   "id": "958ceea8af385016",
   "metadata": {
    "ExecuteTime": {
     "end_time": "2025-02-18T06:21:06.944779Z",
     "start_time": "2025-02-18T06:21:06.942259Z"
    }
   },
   "source": [
    "transformer=transforms.Compose([\n",
    "    transforms.Resize((256,256)),\n",
    "    transforms.ToTensor(),\n",
    "    transforms.Normalize(mean=[0.485, 0.456, 0.406],std=[0.229, 0.224, 0.225]),\n",
    "])\n",
    "label_to_num={\"ants\":0,\"bees\":1}"
   ],
   "outputs": [],
   "execution_count": 2
  },
  {
   "metadata": {
    "ExecuteTime": {
     "end_time": "2025-02-18T06:21:07.076852Z",
     "start_time": "2025-02-18T06:21:07.074279Z"
    }
   },
   "cell_type": "code",
   "source": [
    "# tep_path='data/hymenoptera_data/train/ants/0013035.jpg'\n",
    "# img=Image.open(tep_path)\n",
    "# img=transformer(img)\n",
    "# print(img.shape)"
   ],
   "id": "aea8558e7dac8862",
   "outputs": [],
   "execution_count": 3
  },
  {
   "cell_type": "code",
   "id": "502f01a9e9f7440d",
   "metadata": {
    "ExecuteTime": {
     "end_time": "2025-02-18T06:21:07.081893Z",
     "start_time": "2025-02-18T06:21:07.078591Z"
    }
   },
   "source": [
    "class MyData(Dataset):\n",
    "\n",
    "    def __init__(self, root_dir,label_dir):\n",
    "        self.root_dir = root_dir\n",
    "        self.label_dir = label_dir\n",
    "        self.path=os.path.join(self.root_dir,self.label_dir)\n",
    "        self.image_path=os.listdir(self.path)\n",
    "\n",
    "    def __getitem__(self, idx):\n",
    "        image_name=self.image_path[idx]\n",
    "        image=Image.open(os.path.join(self.path,image_name)).convert('RGB')\n",
    "        label=self.label_dir\n",
    "        return transformer(image), label_to_num[label]\n",
    "\n",
    "    def __len__(self):\n",
    "        return len(self.image_path)"
   ],
   "outputs": [],
   "execution_count": 4
  },
  {
   "cell_type": "code",
   "id": "cce3c0a810fedd57",
   "metadata": {
    "ExecuteTime": {
     "end_time": "2025-02-18T06:21:07.110744Z",
     "start_time": "2025-02-18T06:21:07.086375Z"
    }
   },
   "source": [
    "root_dir='data/hymenoptera_data/train'\n",
    "ants_label_dir='ants'\n",
    "bees_label_dir='bees'\n",
    "ants_dataset=MyData(root_dir,ants_label_dir)\n",
    "bees_dataset=MyData(root_dir,bees_label_dir)\n",
    "all_dataset=ants_dataset + bees_dataset\n",
    "dataloader=DataLoader(all_dataset,batch_size=64,shuffle=True)\n",
    "device = torch.device(\"cuda:0\" if torch.cuda.is_available() else \"cpu\")"
   ],
   "outputs": [],
   "execution_count": 5
  },
  {
   "metadata": {
    "ExecuteTime": {
     "end_time": "2025-02-18T06:21:07.117609Z",
     "start_time": "2025-02-18T06:21:07.113864Z"
    }
   },
   "cell_type": "code",
   "source": [
    "root_val='data/hymenoptera_data/val'\n",
    "ants_val=MyData(root_val,ants_label_dir)\n",
    "bees_val=MyData(root_val,bees_label_dir)\n",
    "all_val=ants_val + bees_val\n",
    "val_loader=DataLoader(all_val,batch_size=64,shuffle=True)"
   ],
   "id": "82f69842100b4ad5",
   "outputs": [],
   "execution_count": 6
  },
  {
   "cell_type": "code",
   "id": "70804ac69abfe2e0",
   "metadata": {
    "ExecuteTime": {
     "end_time": "2025-02-18T06:21:07.128234Z",
     "start_time": "2025-02-18T06:21:07.121849Z"
    }
   },
   "source": [
    "class MyModule(nn.Module):\n",
    "    def __init__(self):\n",
    "        super().__init__()\n",
    "        self.net=nn.Sequential(\n",
    "            nn.Conv2d(3,32,7,1,3),\n",
    "            nn.MaxPool2d(4),\n",
    "            nn.Conv2d(32,64,5,1,2),\n",
    "            nn.MaxPool2d(4),\n",
    "            nn.Conv2d(64,128,3,1,1),\n",
    "            nn.MaxPool2d(2),\n",
    "            nn.Conv2d(128,128,3,1,1),\n",
    "            nn.MaxPool2d(2),\n",
    "            nn.Flatten(),\n",
    "            nn.Linear(2048,256),\n",
    "            nn.ReLU(),\n",
    "            nn.Linear(256,16),\n",
    "            nn.ReLU(),\n",
    "            nn.Linear(16,2)\n",
    "        )\n",
    "\n",
    "    def forward(self, x):\n",
    "        return self.net(x)\n",
    "my_model=MyModule()"
   ],
   "outputs": [],
   "execution_count": 7
  },
  {
   "cell_type": "code",
   "id": "b0ace332e67ef9b0",
   "metadata": {
    "ExecuteTime": {
     "end_time": "2025-02-18T06:21:07.223662Z",
     "start_time": "2025-02-18T06:21:07.131621Z"
    }
   },
   "source": [
    "my_model.to(device)\n",
    "loss_fn = nn.CrossEntropyLoss()\n",
    "loss_fn.to(device)\n",
    "optimizer = torch.optim.Adam(my_model.parameters(),lr=0.001,weight_decay=0.01)"
   ],
   "outputs": [],
   "execution_count": 8
  },
  {
   "cell_type": "code",
   "id": "ceae1d1a6f350e26",
   "metadata": {
    "ExecuteTime": {
     "end_time": "2025-02-18T06:21:07.311901Z",
     "start_time": "2025-02-18T06:21:07.227305Z"
    }
   },
   "source": [
    "from torch.utils.tensorboard import SummaryWriter\n",
    "\n",
    "epochs = 40\n",
    "train_step=0\n",
    "total_test_step=0\n",
    "test_data_size = len(all_val)\n",
    "writer = SummaryWriter(\"my_dl_logs\")"
   ],
   "outputs": [],
   "execution_count": 9
  },
  {
   "cell_type": "code",
   "id": "22d9795d260d6cf5",
   "metadata": {
    "ExecuteTime": {
     "end_time": "2025-02-18T06:21:59.965439Z",
     "start_time": "2025-02-18T06:21:07.315568Z"
    }
   },
   "source": [
    "for i in range(epochs):\n",
    "    print('epoch',i+1)\n",
    "    my_model.train()\n",
    "\n",
    "    for data in dataloader:\n",
    "\n",
    "        image,label=data\n",
    "        image=image.to(device)\n",
    "        label=label.to(device)\n",
    "        outputs=my_model(image)\n",
    "\n",
    "        loss=loss_fn(outputs,label)\n",
    "\n",
    "        optimizer.zero_grad()\n",
    "        loss.backward()\n",
    "        optimizer.step()\n",
    "\n",
    "        train_step+=1\n",
    "        writer.add_scalar('train loss',loss.item(),train_step)\n",
    "        if(train_step%10==0):\n",
    "            print(f\"step:{train_step} train loss:{loss.item():.4f}\")\n",
    "\n",
    "    my_model.eval()\n",
    "    total_test_loss=0\n",
    "    total_accuracy=0\n",
    "    with torch.no_grad():\n",
    "        for data in val_loader:\n",
    "            image,label=data\n",
    "            image=image.to(device)\n",
    "            label=label.to(device)\n",
    "            outputs=my_model(image)\n",
    "            loss=loss_fn(outputs,label)\n",
    "            total_test_loss+=loss.item()\n",
    "            accuracy = (outputs.argmax(1) == label).sum()\n",
    "            total_accuracy+=accuracy\n",
    "\n",
    "    print(\"整体测试集上的Loss：{}\".format(total_test_loss/len(val_loader)))\n",
    "    print(\"整体测试集上的正确率：{}\".format(total_accuracy/test_data_size))\n",
    "    writer.add_scalar(\"test_loss\",total_test_loss/len(val_loader),total_test_step)\n",
    "    writer.add_scalar(\"test_accuracy\",total_accuracy/test_data_size,total_test_step)\n",
    "    total_test_step = total_test_step + 1\n"
   ],
   "outputs": [
    {
     "name": "stdout",
     "output_type": "stream",
     "text": [
      "epoch 1\n",
      "整体测试集上的Loss：0.6724225282669067\n",
      "整体测试集上的正确率：0.601307213306427\n",
      "epoch 2\n",
      "整体测试集上的Loss：0.6854997078577677\n",
      "整体测试集上的正确率：0.5751634240150452\n",
      "epoch 3\n",
      "step:10 train loss:0.6467\n",
      "整体测试集上的Loss：0.6548200845718384\n",
      "整体测试集上的正确率：0.601307213306427\n",
      "epoch 4\n",
      "整体测试集上的Loss：0.6600675185521444\n",
      "整体测试集上的正确率：0.5686274766921997\n",
      "epoch 5\n",
      "step:20 train loss:0.6250\n",
      "整体测试集上的Loss：0.7686635653177897\n",
      "整体测试集上的正确率：0.5882353186607361\n",
      "epoch 6\n",
      "整体测试集上的Loss：0.6774961352348328\n",
      "整体测试集上的正确率：0.5359477400779724\n",
      "epoch 7\n",
      "整体测试集上的Loss：0.7637085715929667\n",
      "整体测试集上的正确率：0.5816993713378906\n",
      "epoch 8\n",
      "step:30 train loss:0.5422\n",
      "整体测试集上的Loss：0.6843770742416382\n",
      "整体测试集上的正确率：0.5751634240150452\n",
      "epoch 9\n",
      "整体测试集上的Loss：0.6361744403839111\n",
      "整体测试集上的正确率：0.6143791079521179\n",
      "epoch 10\n",
      "step:40 train loss:0.4180\n",
      "整体测试集上的Loss：0.8410924474398295\n",
      "整体测试集上的正确率：0.5947712659835815\n",
      "epoch 11\n",
      "整体测试集上的Loss：0.8193130691846212\n",
      "整体测试集上的正确率：0.6143791079521179\n",
      "epoch 12\n",
      "整体测试集上的Loss：0.8031263550122579\n",
      "整体测试集上的正确率：0.516339898109436\n",
      "epoch 13\n",
      "step:50 train loss:0.5840\n",
      "整体测试集上的Loss：0.7686176697413126\n",
      "整体测试集上的正确率：0.5555555820465088\n",
      "epoch 14\n",
      "整体测试集上的Loss：0.7677897016207377\n",
      "整体测试集上的正确率：0.6209150552749634\n",
      "epoch 15\n",
      "step:60 train loss:0.3954\n",
      "整体测试集上的Loss：0.9214589993158976\n",
      "整体测试集上的正确率：0.6209150552749634\n",
      "epoch 16\n",
      "整体测试集上的Loss：0.8692260185877482\n",
      "整体测试集上的正确率：0.6274510025978088\n",
      "epoch 17\n",
      "整体测试集上的Loss：1.0025281707445781\n",
      "整体测试集上的正确率：0.6274510025978088\n",
      "epoch 18\n",
      "step:70 train loss:0.2196\n",
      "整体测试集上的Loss：0.8660093347231547\n",
      "整体测试集上的正确率：0.6274510025978088\n",
      "epoch 19\n",
      "整体测试集上的Loss：0.75894695520401\n",
      "整体测试集上的正确率：0.6470588445663452\n",
      "epoch 20\n",
      "step:80 train loss:0.2401\n",
      "整体测试集上的Loss：1.1607100367546082\n",
      "整体测试集上的正确率：0.6078431606292725\n",
      "epoch 21\n",
      "整体测试集上的Loss：1.317845384279887\n",
      "整体测试集上的正确率：0.6535947918891907\n",
      "epoch 22\n",
      "整体测试集上的Loss：1.22745148340861\n",
      "整体测试集上的正确率：0.5882353186607361\n",
      "epoch 23\n",
      "step:90 train loss:0.1654\n",
      "整体测试集上的Loss：1.4771291017532349\n",
      "整体测试集上的正确率：0.5882353186607361\n",
      "epoch 24\n",
      "整体测试集上的Loss：1.421306808789571\n",
      "整体测试集上的正确率：0.6078431606292725\n",
      "epoch 25\n",
      "step:100 train loss:0.1994\n",
      "整体测试集上的Loss：1.9775978724161785\n",
      "整体测试集上的正确率：0.6209150552749634\n",
      "epoch 26\n",
      "整体测试集上的Loss：1.2750096519788106\n",
      "整体测试集上的正确率：0.601307213306427\n",
      "epoch 27\n",
      "整体测试集上的Loss：1.8786345720291138\n",
      "整体测试集上的正确率：0.6078431606292725\n",
      "epoch 28\n",
      "step:110 train loss:0.1653\n",
      "整体测试集上的Loss：1.6546037991841633\n",
      "整体测试集上的正确率：0.6339869499206543\n",
      "epoch 29\n",
      "整体测试集上的Loss：1.6110389629999797\n",
      "整体测试集上的正确率：0.6078431606292725\n",
      "epoch 30\n",
      "step:120 train loss:0.3169\n",
      "整体测试集上的Loss：1.038228452205658\n",
      "整体测试集上的正确率：0.6666666865348816\n",
      "epoch 31\n",
      "整体测试集上的Loss：1.5037144422531128\n",
      "整体测试集上的正确率：0.6405228972434998\n",
      "epoch 32\n",
      "整体测试集上的Loss：1.469047983487447\n",
      "整体测试集上的正确率：0.6274510025978088\n",
      "epoch 33\n",
      "step:130 train loss:0.1210\n",
      "整体测试集上的Loss：1.3270517985026042\n",
      "整体测试集上的正确率：0.5816993713378906\n",
      "epoch 34\n",
      "整体测试集上的Loss：1.4588005542755127\n",
      "整体测试集上的正确率：0.6143791079521179\n",
      "epoch 35\n",
      "step:140 train loss:0.1165\n",
      "整体测试集上的Loss：1.718264142672221\n",
      "整体测试集上的正确率：0.6143791079521179\n",
      "epoch 36\n",
      "整体测试集上的Loss：1.6966517368952434\n",
      "整体测试集上的正确率：0.6535947918891907\n",
      "epoch 37\n",
      "整体测试集上的Loss：2.2137743631998696\n",
      "整体测试集上的正确率：0.5882353186607361\n",
      "epoch 38\n",
      "step:150 train loss:0.0096\n",
      "整体测试集上的Loss：1.5603706041971843\n",
      "整体测试集上的正确率：0.601307213306427\n",
      "epoch 39\n",
      "整体测试集上的Loss：1.759056846300761\n",
      "整体测试集上的正确率：0.6339869499206543\n",
      "epoch 40\n",
      "step:160 train loss:0.0040\n",
      "整体测试集上的Loss：1.9747508764266968\n",
      "整体测试集上的正确率：0.6601307392120361\n"
     ]
    }
   ],
   "execution_count": 10
  },
  {
   "metadata": {
    "ExecuteTime": {
     "end_time": "2025-02-18T06:22:00.028788Z",
     "start_time": "2025-02-18T06:22:00.025979Z"
    }
   },
   "cell_type": "code",
   "source": "writer.close()",
   "id": "a44e92a1eff7cf9a",
   "outputs": [],
   "execution_count": 11
  },
  {
   "cell_type": "code",
   "id": "f579d813e36912af",
   "metadata": {
    "ExecuteTime": {
     "end_time": "2025-02-18T06:22:00.057265Z",
     "start_time": "2025-02-18T06:22:00.054587Z"
    }
   },
   "source": [
    "# for data in dataloader:\n",
    "#     image,label=data\n",
    "#     image=image.to(device)\n",
    "#     label=label.to(device)\n",
    "#     print(my_model(image).shape)\n",
    "#     break"
   ],
   "outputs": [],
   "execution_count": 12
  },
  {
   "metadata": {
    "ExecuteTime": {
     "end_time": "2025-02-18T06:22:00.085071Z",
     "start_time": "2025-02-18T06:22:00.083058Z"
    }
   },
   "cell_type": "code",
   "source": "\n",
   "id": "8c1d30c94b6bd6b0",
   "outputs": [],
   "execution_count": 12
  }
 ],
 "metadata": {
  "kernelspec": {
   "display_name": "Python 3 (ipykernel)",
   "language": "python",
   "name": "python3"
  },
  "language_info": {
   "codemirror_mode": {
    "name": "ipython",
    "version": 3
   },
   "file_extension": ".py",
   "mimetype": "text/x-python",
   "name": "python",
   "nbconvert_exporter": "python",
   "pygments_lexer": "ipython3",
   "version": "3.12.9"
  }
 },
 "nbformat": 4,
 "nbformat_minor": 5
}
