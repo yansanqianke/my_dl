{
 "cells": [
  {
   "cell_type": "code",
   "id": "initial_id",
   "metadata": {
    "collapsed": true,
    "ExecuteTime": {
     "end_time": "2025-02-18T02:06:24.895718Z",
     "start_time": "2025-02-18T02:06:22.877542Z"
    }
   },
   "source": [
    "import torch.nn\n",
    "from torch.utils.data import Dataset, DataLoader\n",
    "from PIL import Image\n",
    "import os\n",
    "import torch.nn as nn\n",
    "from torchvision import transforms"
   ],
   "outputs": [],
   "execution_count": 1
  },
  {
   "metadata": {
    "ExecuteTime": {
     "end_time": "2025-02-18T02:06:28.691131Z",
     "start_time": "2025-02-18T02:06:28.679254Z"
    }
   },
   "cell_type": "code",
   "source": [
    "transformer=transforms.Compose([\n",
    "    transforms.Resize((256,256)),\n",
    "    transforms.ToTensor(),\n",
    "    transforms.Normalize(mean=[0.485, 0.456, 0.406],std=[0.229, 0.224, 0.225]),\n",
    "])\n",
    "label_to_num={\"ants\":0,\"bees\":1}"
   ],
   "id": "958ceea8af385016",
   "outputs": [],
   "execution_count": 2
  },
  {
   "metadata": {
    "ExecuteTime": {
     "end_time": "2025-02-18T02:06:30.053517Z",
     "start_time": "2025-02-18T02:06:30.039995Z"
    }
   },
   "cell_type": "code",
   "source": [
    "class MyData(Dataset):\n",
    "\n",
    "    def __init__(self, root_dir,label_dir):\n",
    "        self.root_dir = root_dir\n",
    "        self.label_dir = label_dir\n",
    "        self.path=os.path.join(self.root_dir,self.label_dir)\n",
    "        self.image_path=os.listdir(self.path)\n",
    "\n",
    "    def __getitem__(self, idx):\n",
    "        image_name=self.image_path[idx]\n",
    "        image=Image.open(os.path.join(self.path,image_name))\n",
    "        label=self.label_dir\n",
    "        return transformer(image), label_to_num[label]\n",
    "\n",
    "    def __len__(self):\n",
    "        return len(self.image_path)"
   ],
   "id": "502f01a9e9f7440d",
   "outputs": [],
   "execution_count": 3
  },
  {
   "metadata": {
    "ExecuteTime": {
     "end_time": "2025-02-18T02:06:33.942566Z",
     "start_time": "2025-02-18T02:06:33.934923Z"
    }
   },
   "cell_type": "code",
   "source": [
    "root_dir='data/hymenoptera_data/train'\n",
    "ants_label_dir='ants'\n",
    "bees_label_dir='bees'\n",
    "ants_dataset=MyData(root_dir,ants_label_dir)\n",
    "bees_dataset=MyData(root_dir,bees_label_dir)\n",
    "all_dataset=ants_dataset + bees_dataset"
   ],
   "id": "cce3c0a810fedd57",
   "outputs": [],
   "execution_count": 4
  },
  {
   "metadata": {
    "ExecuteTime": {
     "end_time": "2025-02-18T02:07:45.485571Z",
     "start_time": "2025-02-18T02:07:45.458113Z"
    }
   },
   "cell_type": "code",
   "source": [
    "dataloader=DataLoader(all_dataset,batch_size=16,shuffle=True)\n",
    "device = torch.device(\"cuda:0\" if torch.cuda.is_available() else \"cpu\")\n",
    "loss_fn = nn.CrossEntropyLoss()"
   ],
   "id": "b0ace332e67ef9b0",
   "outputs": [],
   "execution_count": 5
  },
  {
   "metadata": {
    "ExecuteTime": {
     "end_time": "2025-02-18T02:08:06.260225Z",
     "start_time": "2025-02-18T02:08:06.020565Z"
    }
   },
   "cell_type": "code",
   "source": "print(dataloader[0])",
   "id": "f579d813e36912af",
   "outputs": [
    {
     "ename": "TypeError",
     "evalue": "'DataLoader' object is not subscriptable",
     "output_type": "error",
     "traceback": [
      "\u001B[1;31m---------------------------------------------------------------------------\u001B[0m",
      "\u001B[1;31mTypeError\u001B[0m                                 Traceback (most recent call last)",
      "Cell \u001B[1;32mIn[6], line 1\u001B[0m\n\u001B[1;32m----> 1\u001B[0m \u001B[38;5;28mprint\u001B[39m(dataloader[\u001B[38;5;241m0\u001B[39m])\n",
      "\u001B[1;31mTypeError\u001B[0m: 'DataLoader' object is not subscriptable"
     ]
    }
   ],
   "execution_count": 6
  },
  {
   "metadata": {},
   "cell_type": "code",
   "outputs": [],
   "execution_count": null,
   "source": [
    "class MyModule(nn.Module):\n",
    "    def __init__(self):\n",
    "        super().__init__()\n",
    "        self.net=nn.Sequential(\n",
    "            nn.Conv2d(3,32,7,1,3),\n",
    "            nn.MaxPool2d(4),\n",
    "            nn.Conv2d(32,64,5,1,2),\n",
    "            nn.MaxPool2d(4),\n",
    "            nn.Conv2d(64,128,3,1,1),\n",
    "            nn.MaxPool2d(2),\n",
    "            nn.Conv2d(128,128,3,1,1),\n",
    "            nn.MaxPool2d(2),\n",
    "            nn.Flatten(),\n",
    "        )\n",
    "\n",
    "    def forward(self, x):\n",
    "        return self.net(x)\n"
   ],
   "id": "70804ac69abfe2e0"
  }
 ],
 "metadata": {
  "kernelspec": {
   "display_name": "Python 3",
   "language": "python",
   "name": "python3"
  },
  "language_info": {
   "codemirror_mode": {
    "name": "ipython",
    "version": 2
   },
   "file_extension": ".py",
   "mimetype": "text/x-python",
   "name": "python",
   "nbconvert_exporter": "python",
   "pygments_lexer": "ipython2",
   "version": "2.7.6"
  }
 },
 "nbformat": 4,
 "nbformat_minor": 5
}
